{
 "cells": [
  {
   "cell_type": "code",
   "execution_count": null,
   "id": "c4dc8472",
   "metadata": {},
   "outputs": [],
   "source": [
    "# https://pytube.io/en/latest/"
   ]
  },
  {
   "cell_type": "code",
   "execution_count": 2,
   "id": "66c768a6",
   "metadata": {},
   "outputs": [],
   "source": [
    "# !pip install pytube"
   ]
  },
  {
   "cell_type": "code",
   "execution_count": 3,
   "id": "4116a081",
   "metadata": {},
   "outputs": [],
   "source": [
    "from pytube import YouTube"
   ]
  },
  {
   "cell_type": "code",
   "execution_count": 6,
   "id": "1fd8a07b",
   "metadata": {},
   "outputs": [],
   "source": [
    "YouTube('https://youtu.be/YHMw3CL5cXE').streams.first().download()\n",
    "yt = YouTube('https://youtube.com/watch?v=YHMw3CL5cXE')"
   ]
  },
  {
   "cell_type": "code",
   "execution_count": 9,
   "id": "cd5d65bf",
   "metadata": {},
   "outputs": [
    {
     "data": {
      "text/plain": [
       "'/Users/encore/Dev/Github/jupyter-notebook/Youtube/Why Have A Daily Standup - Agile Practices.mp4'"
      ]
     },
     "execution_count": 9,
     "metadata": {},
     "output_type": "execute_result"
    }
   ],
   "source": [
    "yt.streams.filter(progressive=True, file_extension='mp4').order_by('resolution').desc().first().download()"
   ]
  },
  {
   "cell_type": "code",
   "execution_count": 10,
   "id": "9d256062",
   "metadata": {},
   "outputs": [
    {
     "data": {
      "text/plain": [
       "'Why Have A Daily Standup - Agile Practices'"
      ]
     },
     "execution_count": 10,
     "metadata": {},
     "output_type": "execute_result"
    }
   ],
   "source": [
    "yt.title"
   ]
  },
  {
   "cell_type": "code",
   "execution_count": 13,
   "id": "5786b0b4",
   "metadata": {},
   "outputs": [
    {
     "data": {
      "text/plain": [
       "{'zh-TW': <Caption lang=\"Chinese (Taiwan)\" code=\"zh-TW\">}"
      ]
     },
     "execution_count": 13,
     "metadata": {},
     "output_type": "execute_result"
    }
   ],
   "source": [
    "yt.captions"
   ]
  },
  {
   "cell_type": "code",
   "execution_count": 14,
   "id": "797ecb59",
   "metadata": {},
   "outputs": [
    {
     "data": {
      "text/plain": [
       "'Mark Shead'"
      ]
     },
     "execution_count": 14,
     "metadata": {},
     "output_type": "execute_result"
    }
   ],
   "source": [
    "yt.author"
   ]
  },
  {
   "cell_type": "code",
   "execution_count": 15,
   "id": "490c089f",
   "metadata": {},
   "outputs": [
    {
     "data": {
      "text/plain": [
       "'One of the most common practices you\\'ll see in an Agile team is the daily standup meeting, but why? Can we improve our daily standup by better understanding the principles behind the practice? If you\\'d like a free book on this topic, please see below...\\n\\n\\nI\\'ve published a book called \"Starting Agile\" that is designed to help you start your team\\'s Agile journey out right. You can buy a copy from Amazon, but I\\'m giving free copies away to my subscribers from YouTube. You can signup for a copy at this link:\\n\\nhttps://www.xeric.net/#starting-agile'"
      ]
     },
     "execution_count": 15,
     "metadata": {},
     "output_type": "execute_result"
    }
   ],
   "source": [
    "yt.description"
   ]
  },
  {
   "cell_type": "code",
   "execution_count": 16,
   "id": "598a3051",
   "metadata": {},
   "outputs": [
    {
     "data": {
      "text/plain": [
       "'https://youtube.com/watch?v=YHMw3CL5cXE'"
      ]
     },
     "execution_count": 16,
     "metadata": {},
     "output_type": "execute_result"
    }
   ],
   "source": [
    "yt.watch_url"
   ]
  },
  {
   "cell_type": "code",
   "execution_count": 17,
   "id": "1a2b9f47",
   "metadata": {},
   "outputs": [
    {
     "data": {
      "text/plain": [
       "['agile', 'standup', 'software development']"
      ]
     },
     "execution_count": 17,
     "metadata": {},
     "output_type": "execute_result"
    }
   ],
   "source": [
    "yt.keywords"
   ]
  }
 ],
 "metadata": {
  "kernelspec": {
   "display_name": "Python 3 (ipykernel)",
   "language": "python",
   "name": "python3"
  },
  "language_info": {
   "codemirror_mode": {
    "name": "ipython",
    "version": 3
   },
   "file_extension": ".py",
   "mimetype": "text/x-python",
   "name": "python",
   "nbconvert_exporter": "python",
   "pygments_lexer": "ipython3",
   "version": "3.10.9"
  }
 },
 "nbformat": 4,
 "nbformat_minor": 5
}

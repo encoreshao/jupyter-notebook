{
 "cells": [
  {
   "cell_type": "code",
   "execution_count": 7,
   "id": "c8d7b8a1",
   "metadata": {},
   "outputs": [],
   "source": [
    "# https://pytube.io/en/latest/\n",
    "# !pip install pytube\n",
    "\n",
    "video_ids = ['YHMw3CL5cXE', '2TL3DgIMY1g', 'hPbgVyBKeWs', 'ecTSlaNM0Z0']"
   ]
  },
  {
   "cell_type": "code",
   "execution_count": 2,
   "id": "52d54ef4",
   "metadata": {},
   "outputs": [],
   "source": [
    "from pytube import YouTube"
   ]
  },
  {
   "cell_type": "code",
   "execution_count": 9,
   "id": "91488f4a",
   "metadata": {},
   "outputs": [],
   "source": [
    "video_id = video_ids[3]\n",
    "\n",
    "YouTube(f'https://youtu.be/{video_id}') \\\n",
    "    .streams \\\n",
    "    .first() \\\n",
    "    .download('./Downloads')\n",
    "\n",
    "yt = YouTube(f'https://youtube.com/watch?v={video_id}')"
   ]
  },
  {
   "cell_type": "code",
   "execution_count": 10,
   "id": "28d5115d",
   "metadata": {},
   "outputs": [
    {
     "name": "stdout",
     "output_type": "stream",
     "text": [
      "Captions Available:  {}\n"
     ]
    },
    {
     "data": {
      "text/plain": [
       "'/Users/encore/Dev/Github/jupyter-notebook/Youtube/./Downloads/朴树《平凡之路》Official MV.mp4'"
      ]
     },
     "execution_count": 10,
     "metadata": {},
     "output_type": "execute_result"
    }
   ],
   "source": [
    " # prints all available captions in various languages.\n",
    "print('Captions Available: ', yt.captions)\n",
    "\n",
    "# en_caption = yt.captions.get_by_language_code('zh-TW')\n",
    "# en_caption.generate_srt_captions()\n",
    "\n",
    "# yt.bypass_age_gate()\n",
    "\n",
    "yt.streams.filter(progressive=True, file_extension='mp4') \\\n",
    "    .order_by('resolution') \\\n",
    "    .desc() \\\n",
    "    .first() \\\n",
    "    .download('./Downloads')\n"
   ]
  },
  {
   "cell_type": "code",
   "execution_count": 10,
   "id": "4154f428",
   "metadata": {},
   "outputs": [
    {
     "data": {
      "text/plain": [
       "'Why Have A Daily Standup - Agile Practices'"
      ]
     },
     "execution_count": 10,
     "metadata": {},
     "output_type": "execute_result"
    }
   ],
   "source": [
    "yt.title"
   ]
  },
  {
   "cell_type": "code",
   "execution_count": 13,
   "id": "50e7a260",
   "metadata": {},
   "outputs": [
    {
     "data": {
      "text/plain": [
       "{'zh-TW': <Caption lang=\"Chinese (Taiwan)\" code=\"zh-TW\">}"
      ]
     },
     "execution_count": 13,
     "metadata": {},
     "output_type": "execute_result"
    }
   ],
   "source": [
    "yt.captions"
   ]
  },
  {
   "cell_type": "code",
   "execution_count": 14,
   "id": "85e54621",
   "metadata": {},
   "outputs": [
    {
     "data": {
      "text/plain": [
       "'Mark Shead'"
      ]
     },
     "execution_count": 14,
     "metadata": {},
     "output_type": "execute_result"
    }
   ],
   "source": [
    "yt.author"
   ]
  },
  {
   "cell_type": "code",
   "execution_count": 15,
   "id": "e10d8f92",
   "metadata": {},
   "outputs": [
    {
     "data": {
      "text/plain": [
       "'One of the most common practices you\\'ll see in an Agile team is the daily standup meeting, but why? Can we improve our daily standup by better understanding the principles behind the practice? If you\\'d like a free book on this topic, please see below...\\n\\n\\nI\\'ve published a book called \"Starting Agile\" that is designed to help you start your team\\'s Agile journey out right. You can buy a copy from Amazon, but I\\'m giving free copies away to my subscribers from YouTube. You can signup for a copy at this link:\\n\\nhttps://www.xeric.net/#starting-agile'"
      ]
     },
     "execution_count": 15,
     "metadata": {},
     "output_type": "execute_result"
    }
   ],
   "source": [
    "yt.description"
   ]
  },
  {
   "cell_type": "code",
   "execution_count": 16,
   "id": "118b6dbe",
   "metadata": {},
   "outputs": [
    {
     "data": {
      "text/plain": [
       "'https://youtube.com/watch?v=YHMw3CL5cXE'"
      ]
     },
     "execution_count": 16,
     "metadata": {},
     "output_type": "execute_result"
    }
   ],
   "source": [
    "yt.watch_url"
   ]
  },
  {
   "cell_type": "code",
   "execution_count": 17,
   "id": "834ebe07",
   "metadata": {},
   "outputs": [
    {
     "data": {
      "text/plain": [
       "['agile', 'standup', 'software development']"
      ]
     },
     "execution_count": 17,
     "metadata": {},
     "output_type": "execute_result"
    }
   ],
   "source": [
    "yt.keywords"
   ]
  },
  {
   "cell_type": "code",
   "execution_count": 47,
   "id": "800d06ce",
   "metadata": {},
   "outputs": [
    {
     "name": "stdout",
     "output_type": "stream",
     "text": [
      "Title : Scraping YouTube with OpenAI API (Python, ChatGPT, YouTube Transcript API)\n",
      "Views : 4670\n",
      "Description : None\n"
     ]
    },
    {
     "ename": "IncompleteRead",
     "evalue": "IncompleteRead(8028663 bytes read, 1408521 more expected)",
     "output_type": "error",
     "traceback": [
      "\u001b[0;31m---------------------------------------------------------------------------\u001b[0m",
      "\u001b[0;31mIncompleteRead\u001b[0m                            Traceback (most recent call last)",
      "Cell \u001b[0;32mIn[47], line 11\u001b[0m\n\u001b[1;32m      8\u001b[0m     \u001b[38;5;28mprint\u001b[39m(\u001b[38;5;124m\"\u001b[39m\u001b[38;5;124mRatings :\u001b[39m\u001b[38;5;124m\"\u001b[39m, \u001b[38;5;28mround\u001b[39m(yt\u001b[38;5;241m.\u001b[39mrating, \u001b[38;5;241m2\u001b[39m))\n\u001b[1;32m     10\u001b[0m stream \u001b[38;5;241m=\u001b[39m yt\u001b[38;5;241m.\u001b[39mstreams\u001b[38;5;241m.\u001b[39mget_highest_resolution()\n\u001b[0;32m---> 11\u001b[0m \u001b[43mstream\u001b[49m\u001b[38;5;241;43m.\u001b[39;49m\u001b[43mdownload\u001b[49m\u001b[43m(\u001b[49m\u001b[43m)\u001b[49m\n\u001b[1;32m     13\u001b[0m \u001b[38;5;28mprint\u001b[39m(\u001b[38;5;124m\"\u001b[39m\u001b[38;5;124mDownload Done!!\u001b[39m\u001b[38;5;124m\"\u001b[39m)\n",
      "File \u001b[0;32m~/anaconda3/lib/python3.10/site-packages/pytube/streams.py:314\u001b[0m, in \u001b[0;36mStream.download\u001b[0;34m(self, output_path, filename, filename_prefix, skip_existing, timeout, max_retries)\u001b[0m\n\u001b[1;32m    312\u001b[0m \u001b[38;5;28;01mwith\u001b[39;00m \u001b[38;5;28mopen\u001b[39m(file_path, \u001b[38;5;124m\"\u001b[39m\u001b[38;5;124mwb\u001b[39m\u001b[38;5;124m\"\u001b[39m) \u001b[38;5;28;01mas\u001b[39;00m fh:\n\u001b[1;32m    313\u001b[0m     \u001b[38;5;28;01mtry\u001b[39;00m:\n\u001b[0;32m--> 314\u001b[0m         \u001b[38;5;28;01mfor\u001b[39;00m chunk \u001b[38;5;129;01min\u001b[39;00m request\u001b[38;5;241m.\u001b[39mstream(\n\u001b[1;32m    315\u001b[0m             \u001b[38;5;28mself\u001b[39m\u001b[38;5;241m.\u001b[39murl,\n\u001b[1;32m    316\u001b[0m             timeout\u001b[38;5;241m=\u001b[39mtimeout,\n\u001b[1;32m    317\u001b[0m             max_retries\u001b[38;5;241m=\u001b[39mmax_retries\n\u001b[1;32m    318\u001b[0m         ):\n\u001b[1;32m    319\u001b[0m             \u001b[38;5;66;03m# reduce the (bytes) remainder by the length of the chunk.\u001b[39;00m\n\u001b[1;32m    320\u001b[0m             bytes_remaining \u001b[38;5;241m-\u001b[39m\u001b[38;5;241m=\u001b[39m \u001b[38;5;28mlen\u001b[39m(chunk)\n\u001b[1;32m    321\u001b[0m             \u001b[38;5;66;03m# send to the on_progress callback.\u001b[39;00m\n",
      "File \u001b[0;32m~/anaconda3/lib/python3.10/site-packages/pytube/request.py:189\u001b[0m, in \u001b[0;36mstream\u001b[0;34m(url, timeout, max_retries)\u001b[0m\n\u001b[1;32m    187\u001b[0m         logger\u001b[38;5;241m.\u001b[39merror(e)\n\u001b[1;32m    188\u001b[0m \u001b[38;5;28;01mwhile\u001b[39;00m \u001b[38;5;28;01mTrue\u001b[39;00m:\n\u001b[0;32m--> 189\u001b[0m     chunk \u001b[38;5;241m=\u001b[39m \u001b[43mresponse\u001b[49m\u001b[38;5;241;43m.\u001b[39;49m\u001b[43mread\u001b[49m\u001b[43m(\u001b[49m\u001b[43m)\u001b[49m\n\u001b[1;32m    190\u001b[0m     \u001b[38;5;28;01mif\u001b[39;00m \u001b[38;5;129;01mnot\u001b[39;00m chunk:\n\u001b[1;32m    191\u001b[0m         \u001b[38;5;28;01mbreak\u001b[39;00m\n",
      "File \u001b[0;32m~/anaconda3/lib/python3.10/http/client.py:481\u001b[0m, in \u001b[0;36mHTTPResponse.read\u001b[0;34m(self, amt)\u001b[0m\n\u001b[1;32m    479\u001b[0m \u001b[38;5;28;01melse\u001b[39;00m:\n\u001b[1;32m    480\u001b[0m     \u001b[38;5;28;01mtry\u001b[39;00m:\n\u001b[0;32m--> 481\u001b[0m         s \u001b[38;5;241m=\u001b[39m \u001b[38;5;28;43mself\u001b[39;49m\u001b[38;5;241;43m.\u001b[39;49m\u001b[43m_safe_read\u001b[49m\u001b[43m(\u001b[49m\u001b[38;5;28;43mself\u001b[39;49m\u001b[38;5;241;43m.\u001b[39;49m\u001b[43mlength\u001b[49m\u001b[43m)\u001b[49m\n\u001b[1;32m    482\u001b[0m     \u001b[38;5;28;01mexcept\u001b[39;00m IncompleteRead:\n\u001b[1;32m    483\u001b[0m         \u001b[38;5;28mself\u001b[39m\u001b[38;5;241m.\u001b[39m_close_conn()\n",
      "File \u001b[0;32m~/anaconda3/lib/python3.10/http/client.py:632\u001b[0m, in \u001b[0;36mHTTPResponse._safe_read\u001b[0;34m(self, amt)\u001b[0m\n\u001b[1;32m    630\u001b[0m data \u001b[38;5;241m=\u001b[39m \u001b[38;5;28mself\u001b[39m\u001b[38;5;241m.\u001b[39mfp\u001b[38;5;241m.\u001b[39mread(amt)\n\u001b[1;32m    631\u001b[0m \u001b[38;5;28;01mif\u001b[39;00m \u001b[38;5;28mlen\u001b[39m(data) \u001b[38;5;241m<\u001b[39m amt:\n\u001b[0;32m--> 632\u001b[0m     \u001b[38;5;28;01mraise\u001b[39;00m IncompleteRead(data, amt\u001b[38;5;241m-\u001b[39m\u001b[38;5;28mlen\u001b[39m(data))\n\u001b[1;32m    633\u001b[0m \u001b[38;5;28;01mreturn\u001b[39;00m data\n",
      "\u001b[0;31mIncompleteRead\u001b[0m: IncompleteRead(8028663 bytes read, 1408521 more expected)"
     ]
    }
   ],
   "source": [
    "link = f'https://youtu.be/{video_ids[1]}'\n",
    "yt = YouTube(link)\n",
    "\n",
    "print(\"Title :\", yt.title)\n",
    "print(\"Views :\", yt.views)\n",
    "print(\"Description :\", yt.description)\n",
    "if yt.rating != None:\n",
    "    print(\"Ratings :\", round(yt.rating, 2))\n",
    "\n",
    "stream = yt.streams.get_highest_resolution()\n",
    "stream.download()\n",
    "\n",
    "print(\"Download Done!!\")"
   ]
  }
 ],
 "metadata": {
  "kernelspec": {
   "display_name": "Python 3 (ipykernel)",
   "language": "python",
   "name": "python3"
  },
  "language_info": {
   "codemirror_mode": {
    "name": "ipython",
    "version": 3
   },
   "file_extension": ".py",
   "mimetype": "text/x-python",
   "name": "python",
   "nbconvert_exporter": "python",
   "pygments_lexer": "ipython3",
   "version": "3.10.9"
  }
 },
 "nbformat": 4,
 "nbformat_minor": 5
}

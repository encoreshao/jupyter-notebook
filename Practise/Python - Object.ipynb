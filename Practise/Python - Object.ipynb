{
 "cells": [
  {
   "cell_type": "code",
   "execution_count": 2,
   "id": "disturbed-gregory",
   "metadata": {},
   "outputs": [
    {
     "name": "stdout",
     "output_type": "stream",
     "text": [
      "[100, 2, 3]\n"
     ]
    }
   ],
   "source": [
    "# 可变对象和不可变对象\n",
    "\n",
    "x = [1,2,3]\n",
    "y = x\n",
    "y[0] = 100\n",
    "\n",
    "print(x)"
   ]
  },
  {
   "cell_type": "code",
   "execution_count": null,
   "id": "invalid-activity",
   "metadata": {},
   "outputs": [],
   "source": []
  },
  {
   "cell_type": "code",
   "execution_count": 16,
   "id": "referenced-student",
   "metadata": {},
   "outputs": [
    {
     "name": "stdout",
     "output_type": "stream",
     "text": [
      "True\n",
      "False\n"
     ]
    }
   ],
   "source": [
    "# -5 to 256 -> use same Memory\n",
    "\n",
    "x = 10\n",
    "y = 10\n",
    "\n",
    "print(x is y) # True\n",
    "\n",
    "a = -6\n",
    "b = -6\n",
    "\n",
    "print(a is b) # False"
   ]
  },
  {
   "cell_type": "code",
   "execution_count": null,
   "id": "subsequent-entity",
   "metadata": {},
   "outputs": [],
   "source": []
  },
  {
   "cell_type": "code",
   "execution_count": 27,
   "id": "dietary-pound",
   "metadata": {},
   "outputs": [
    {
     "name": "stdout",
     "output_type": "stream",
     "text": [
      "<class 'zip'>\n"
     ]
    }
   ],
   "source": [
    "# zip func\n",
    "\n",
    "l1 = ['one', 'two', 'three']\n",
    "l2 = [1,2,3]\n",
    "\n",
    "zipped = zip(l1, l2); # 迭代器\n",
    "print(type(zipped));"
   ]
  },
  {
   "cell_type": "code",
   "execution_count": 31,
   "id": "specialized-breakdown",
   "metadata": {},
   "outputs": [],
   "source": [
    "for i in zipped:\n",
    "    print(i)"
   ]
  },
  {
   "cell_type": "code",
   "execution_count": 32,
   "id": "written-blogger",
   "metadata": {},
   "outputs": [
    {
     "name": "stdout",
     "output_type": "stream",
     "text": [
      "<class 'list'>\n"
     ]
    }
   ],
   "source": [
    "# zip func\n",
    "\n",
    "l1 = ['one', 'two', 'three']\n",
    "l2 = [1,2,3]\n",
    "\n",
    "zipped = list(zip(l1, l2));\n",
    "print(type(zipped));"
   ]
  },
  {
   "cell_type": "code",
   "execution_count": 38,
   "id": "olive-platform",
   "metadata": {},
   "outputs": [
    {
     "name": "stdout",
     "output_type": "stream",
     "text": [
      "('one', 1)\n",
      "('two', 2)\n",
      "('three', 3)\n"
     ]
    }
   ],
   "source": [
    "for i in zipped:\n",
    "    print(i)"
   ]
  },
  {
   "cell_type": "code",
   "execution_count": null,
   "id": "leading-softball",
   "metadata": {},
   "outputs": [],
   "source": []
  },
  {
   "cell_type": "code",
   "execution_count": 40,
   "id": "compliant-edward",
   "metadata": {},
   "outputs": [
    {
     "name": "stdout",
     "output_type": "stream",
     "text": [
      "140300077649344\n",
      "140300077649344\n"
     ]
    }
   ],
   "source": [
    "a = [1,2]\n",
    "print(id(a)); # 原地址修改\n",
    "a += [3,4]\n",
    "print(id(a));"
   ]
  },
  {
   "cell_type": "code",
   "execution_count": 41,
   "id": "engaging-allen",
   "metadata": {},
   "outputs": [
    {
     "name": "stdout",
     "output_type": "stream",
     "text": [
      "140300077663936\n",
      "140300077649152\n"
     ]
    }
   ],
   "source": [
    "x = [1,2]\n",
    "print(id(x));\n",
    "x = x + [3,4] # 新对象\n",
    "print(id(x));"
   ]
  },
  {
   "cell_type": "code",
   "execution_count": null,
   "id": "robust-capitol",
   "metadata": {},
   "outputs": [],
   "source": []
  },
  {
   "cell_type": "code",
   "execution_count": 44,
   "id": "selected-midnight",
   "metadata": {},
   "outputs": [
    {
     "name": "stdout",
     "output_type": "stream",
     "text": [
      "[101, 102, 103]\n",
      "[201, 202, 203]\n"
     ]
    }
   ],
   "source": [
    "a = [1,2,3]\n",
    "\n",
    "\n",
    "def add(num):\n",
    "    return num + 100\n",
    "\n",
    "res = list(map(add, a))\n",
    "print(res)\n",
    "\n",
    "\n",
    "print(list(map(lambda x: x+200, a))); # lambda "
   ]
  },
  {
   "cell_type": "code",
   "execution_count": null,
   "id": "lonely-washington",
   "metadata": {},
   "outputs": [],
   "source": []
  },
  {
   "cell_type": "code",
   "execution_count": 55,
   "id": "worse-programming",
   "metadata": {},
   "outputs": [
    {
     "name": "stdout",
     "output_type": "stream",
     "text": [
      "dict_items([(20, '李四'), (1, '张三'), (50, '王五')])\n"
     ]
    }
   ],
   "source": [
    "d = {20: '李四', 1: '张三', 50: '王五'}\n",
    "items = d.items()\n",
    "print(items);"
   ]
  },
  {
   "cell_type": "code",
   "execution_count": 56,
   "id": "turkish-sport",
   "metadata": {},
   "outputs": [
    {
     "name": "stdout",
     "output_type": "stream",
     "text": [
      "[(1, '张三'), (20, '李四'), (50, '王五')]\n"
     ]
    }
   ],
   "source": [
    "print(sorted(items))"
   ]
  },
  {
   "cell_type": "code",
   "execution_count": 58,
   "id": "preceding-requirement",
   "metadata": {},
   "outputs": [
    {
     "name": "stdout",
     "output_type": "stream",
     "text": [
      "[(1, '张三'), (20, '李四'), (50, '王五')]\n"
     ]
    }
   ],
   "source": [
    "print(sorted(items, key=lambda y:y[1]))"
   ]
  },
  {
   "cell_type": "code",
   "execution_count": 62,
   "id": "eastern-american",
   "metadata": {},
   "outputs": [
    {
     "name": "stdout",
     "output_type": "stream",
     "text": [
      "[(50, '王五'), (20, '李四'), (1, '张三')]\n"
     ]
    }
   ],
   "source": [
    "print(sorted(items, key=lambda y:y[1], reverse = True))"
   ]
  },
  {
   "cell_type": "code",
   "execution_count": null,
   "id": "binary-lightning",
   "metadata": {},
   "outputs": [],
   "source": []
  },
  {
   "cell_type": "code",
   "execution_count": 64,
   "id": "quick-poetry",
   "metadata": {},
   "outputs": [
    {
     "name": "stdout",
     "output_type": "stream",
     "text": [
      "[['-', '-'], ['-', '-']]\n"
     ]
    }
   ],
   "source": [
    "board = [['-'] * 2] * 2 \n",
    "print(board)"
   ]
  },
  {
   "cell_type": "code",
   "execution_count": 65,
   "id": "alien-mystery",
   "metadata": {},
   "outputs": [
    {
     "name": "stdout",
     "output_type": "stream",
     "text": [
      "[['A', '-'], ['A', '-']]\n"
     ]
    }
   ],
   "source": [
    "board[0][0] = 'A' # 列表引用\n",
    "print(board)"
   ]
  },
  {
   "cell_type": "code",
   "execution_count": null,
   "id": "velvet-richardson",
   "metadata": {},
   "outputs": [],
   "source": []
  },
  {
   "cell_type": "code",
   "execution_count": 90,
   "id": "interstate-final",
   "metadata": {},
   "outputs": [
    {
     "name": "stdout",
     "output_type": "stream",
     "text": [
      "[0, 1, 2, 3, 4, 5, 6, 7]\n",
      "[0, 1, 2, 3, 4, 5, 6, 7]\n",
      "[7, 6, 5, 4, 3, 2, 1, 0]\n"
     ]
    }
   ],
   "source": [
    "a = list(range(8))\n",
    "print(a)\n",
    "b = list(range(0, 8, 1)) # step = 1\n",
    "print(b)\n",
    "\n",
    "c = list(range(7, -1, -1))\n",
    "print(c)"
   ]
  },
  {
   "cell_type": "code",
   "execution_count": null,
   "id": "norman-sheriff",
   "metadata": {},
   "outputs": [],
   "source": []
  },
  {
   "cell_type": "code",
   "execution_count": 97,
   "id": "overhead-attribute",
   "metadata": {},
   "outputs": [
    {
     "name": "stdout",
     "output_type": "stream",
     "text": [
      "step1: Before\n",
      "step2: processing\n",
      "step3: Done\n"
     ]
    }
   ],
   "source": [
    "# 装饰器\n",
    "\n",
    "def decorate_eat(func):\n",
    "    def wrapper():\n",
    "        print('step1: Before')\n",
    "        func()\n",
    "        print('step3: Done')\n",
    "    return wrapper\n",
    "\n",
    "@decorate_eat\n",
    "def eat():\n",
    "    print('step2: processing')\n",
    "    \n",
    "eat()"
   ]
  },
  {
   "cell_type": "code",
   "execution_count": null,
   "id": "conditional-theater",
   "metadata": {},
   "outputs": [],
   "source": []
  },
  {
   "cell_type": "code",
   "execution_count": 99,
   "id": "rolled-bottom",
   "metadata": {},
   "outputs": [
    {
     "name": "stdout",
     "output_type": "stream",
     "text": [
      "White\n",
      "XML\n",
      "['SH', 'Body']\n"
     ]
    }
   ],
   "source": [
    "# 元组拆包\n",
    "\n",
    "x = ('White', 'XML', 'SH', 'Body')\n",
    "\n",
    "color, size, *rest = x\n",
    "\n",
    "print(color)\n",
    "print(size)\n",
    "print(rest)"
   ]
  },
  {
   "cell_type": "code",
   "execution_count": null,
   "id": "disturbed-chile",
   "metadata": {},
   "outputs": [],
   "source": []
  },
  {
   "cell_type": "code",
   "execution_count": 106,
   "id": "guilty-carrier",
   "metadata": {},
   "outputs": [
    {
     "name": "stdout",
     "output_type": "stream",
     "text": [
      "['Hello', 'I am Encore Shao', 'All done in my side.']\n"
     ]
    }
   ],
   "source": [
    "import re\n",
    "\n",
    "s = 'Hello! I am Encore Shao: All done in my side.'\n",
    "\n",
    "result = re.split('! |: ', s)\n",
    "print(result)"
   ]
  },
  {
   "cell_type": "code",
   "execution_count": null,
   "id": "upper-guide",
   "metadata": {},
   "outputs": [],
   "source": []
  }
 ],
 "metadata": {
  "kernelspec": {
   "display_name": "Python 3",
   "language": "python",
   "name": "python3"
  },
  "language_info": {
   "codemirror_mode": {
    "name": "ipython",
    "version": 3
   },
   "file_extension": ".py",
   "mimetype": "text/x-python",
   "name": "python",
   "nbconvert_exporter": "python",
   "pygments_lexer": "ipython3",
   "version": "3.8.5"
  }
 },
 "nbformat": 4,
 "nbformat_minor": 5
}

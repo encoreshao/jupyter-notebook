{
 "cells": [
  {
   "cell_type": "code",
   "execution_count": 39,
   "id": "sunset-generator",
   "metadata": {},
   "outputs": [
    {
     "name": "stdout",
     "output_type": "stream",
     "text": [
      "{'李四': 30, '张三': 10, '王五': 50}\n"
     ]
    }
   ],
   "source": [
    "people = { '李四': 30, '张三': 10, '王五': 50 }\n",
    "print(people)"
   ]
  },
  {
   "cell_type": "code",
   "execution_count": 41,
   "id": "boring-territory",
   "metadata": {},
   "outputs": [
    {
     "data": {
      "text/plain": [
       "{'张三': 10, '李四': 30, '王五': 50}"
      ]
     },
     "execution_count": 41,
     "metadata": {},
     "output_type": "execute_result"
    }
   ],
   "source": [
    "dict(sorted(people.items())) # Sort by key"
   ]
  },
  {
   "cell_type": "code",
   "execution_count": 43,
   "id": "automotive-rates",
   "metadata": {},
   "outputs": [
    {
     "data": {
      "text/plain": [
       "{'张三': 10, '李四': 30, '王五': 50}"
      ]
     },
     "execution_count": 43,
     "metadata": {},
     "output_type": "execute_result"
    }
   ],
   "source": [
    "dict(sorted(people.items(), key=lambda item: item[1])) # Sort by value"
   ]
  },
  {
   "cell_type": "code",
   "execution_count": 44,
   "id": "trained-differential",
   "metadata": {},
   "outputs": [],
   "source": [
    "items = people.items() # <built-in method items of dict object at 0x7fb13055ea00>"
   ]
  },
  {
   "cell_type": "code",
   "execution_count": 36,
   "id": "diagnostic-needle",
   "metadata": {},
   "outputs": [
    {
     "name": "stdout",
     "output_type": "stream",
     "text": [
      "[('张三', 10), ('李四', 30), ('王五', 50)]\n"
     ]
    }
   ],
   "source": [
    "item = sorted(items, key = lambda y:y[1])\n",
    "print(item)"
   ]
  },
  {
   "cell_type": "code",
   "execution_count": 35,
   "id": "legitimate-somalia",
   "metadata": {},
   "outputs": [
    {
     "name": "stdout",
     "output_type": "stream",
     "text": [
      "[('王五', 50), ('李四', 30), ('张三', 10)]\n"
     ]
    }
   ],
   "source": [
    "item = sorted(items, key = lambda y:y[1], reverse = True)\n",
    "print(item)"
   ]
  },
  {
   "cell_type": "code",
   "execution_count": null,
   "id": "north-isolation",
   "metadata": {},
   "outputs": [],
   "source": []
  },
  {
   "cell_type": "code",
   "execution_count": 46,
   "id": "southeast-asthma",
   "metadata": {},
   "outputs": [
    {
     "data": {
      "text/plain": [
       "[1, 2, 3, 3, 3, 3, 4, 4, 5, 6, 7]"
      ]
     },
     "execution_count": 46,
     "metadata": {},
     "output_type": "execute_result"
    }
   ],
   "source": [
    "numbers = [5, 3, 4, 3, 6, 7, 3, 2, 3, 4, 1]\n",
    "sorted(numbers)"
   ]
  },
  {
   "cell_type": "code",
   "execution_count": null,
   "id": "demonstrated-hungarian",
   "metadata": {},
   "outputs": [],
   "source": []
  },
  {
   "cell_type": "code",
   "execution_count": 48,
   "id": "deluxe-constitution",
   "metadata": {},
   "outputs": [
    {
     "data": {
      "text/plain": [
       "['aa', 'ab', 'ac', 'ba', 'ca', 'cb']"
      ]
     },
     "execution_count": 48,
     "metadata": {},
     "output_type": "execute_result"
    }
   ],
   "source": [
    "words = [\"aa\", \"ab\", \"ac\", \"ba\", \"cb\", \"ca\"]\n",
    "sorted(words)"
   ]
  }
 ],
 "metadata": {
  "kernelspec": {
   "display_name": "Python 3",
   "language": "python",
   "name": "python3"
  },
  "language_info": {
   "codemirror_mode": {
    "name": "ipython",
    "version": 3
   },
   "file_extension": ".py",
   "mimetype": "text/x-python",
   "name": "python",
   "nbconvert_exporter": "python",
   "pygments_lexer": "ipython3",
   "version": "3.8.5"
  }
 },
 "nbformat": 4,
 "nbformat_minor": 5
}

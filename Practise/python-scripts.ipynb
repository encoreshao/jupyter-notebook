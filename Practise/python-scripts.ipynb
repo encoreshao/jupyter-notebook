{
 "cells": [
  {
   "cell_type": "markdown",
   "metadata": {},
   "source": [
    "### 1. Convert Text to Speech (Narrator Mode, Activated)"
   ]
  },
  {
   "cell_type": "code",
   "execution_count": 5,
   "metadata": {},
   "outputs": [],
   "source": [
    "# !pip install pyttsx3\n",
    "\n",
    "import pyttsx3\n",
    "\n",
    "def text_to_speech(text):\n",
    "    engine = pyttsx3.init()\n",
    "    engine.say(text)\n",
    "    engine.runAndWait()\n",
    "\n",
    "text_to_speech('Hello World, Python is amazing!')"
   ]
  },
  {
   "cell_type": "markdown",
   "metadata": {},
   "source": [
    "### 2. Check Website Availability (For the Webmaster in You)"
   ]
  },
  {
   "cell_type": "code",
   "execution_count": 1,
   "metadata": {},
   "outputs": [
    {
     "name": "stdout",
     "output_type": "stream",
     "text": [
      "True\n"
     ]
    }
   ],
   "source": [
    "import requests\n",
    "\n",
    "def is_website_online(url):\n",
    "    try:\n",
    "        response = requests.get(url)\n",
    "        return response.status_code == 200\n",
    "    except:\n",
    "        return False\n",
    "\n",
    "print(is_website_online('https://ekohe.com'))"
   ]
  },
  {
   "cell_type": "markdown",
   "metadata": {},
   "source": [
    " ### 3. Monitor Your Computer’s CPU Usage (Stay Cool, Literally)"
   ]
  },
  {
   "cell_type": "code",
   "execution_count": 3,
   "metadata": {},
   "outputs": [
    {
     "name": "stdout",
     "output_type": "stream",
     "text": [
      "CPU usage: 17.9%\n",
      "Memory usage: 88.4%\n"
     ]
    }
   ],
   "source": [
    "import psutil\n",
    "\n",
    "def monitor_cpu():\n",
    "    print(f\"CPU usage: {psutil.cpu_percent()}%\")\n",
    "    print(f\"Memory usage: {psutil.virtual_memory().percent}%\")\n",
    "\n",
    "monitor_cpu()"
   ]
  },
  {
   "cell_type": "markdown",
   "metadata": {},
   "source": [
    "### 4. Batch Image Resizer (Instagram-Ready in Seconds)\n"
   ]
  },
  {
   "cell_type": "code",
   "execution_count": 7,
   "metadata": {},
   "outputs": [
    {
     "name": "stdout",
     "output_type": "stream",
     "text": [
      "Collecting pillow\n",
      "  Downloading pillow-11.0.0-cp39-cp39-macosx_10_10_x86_64.whl.metadata (9.1 kB)\n",
      "Downloading pillow-11.0.0-cp39-cp39-macosx_10_10_x86_64.whl (3.2 MB)\n",
      "\u001b[2K   \u001b[38;2;114;156;31m━━━━━━━━━━━━━━━━━━━━━━━━━━━━━━━━━━━━━━━━\u001b[0m \u001b[32m3.2/3.2 MB\u001b[0m \u001b[31m5.8 MB/s\u001b[0m eta \u001b[36m0:00:00\u001b[0m[31m5.6 MB/s\u001b[0m eta \u001b[36m0:00:01\u001b[0m\n",
      "\u001b[?25hInstalling collected packages: pillow\n",
      "Successfully installed pillow-11.0.0\n",
      "\n",
      "\u001b[1m[\u001b[0m\u001b[34;49mnotice\u001b[0m\u001b[1;39;49m]\u001b[0m\u001b[39;49m A new release of pip is available: \u001b[0m\u001b[31;49m24.2\u001b[0m\u001b[39;49m -> \u001b[0m\u001b[32;49m24.3.1\u001b[0m\n",
      "\u001b[1m[\u001b[0m\u001b[34;49mnotice\u001b[0m\u001b[1;39;49m]\u001b[0m\u001b[39;49m To update, run: \u001b[0m\u001b[32;49mpip install --upgrade pip\u001b[0m\n"
     ]
    }
   ],
   "source": [
    "!pip install pillow"
   ]
  },
  {
   "cell_type": "code",
   "execution_count": 10,
   "metadata": {},
   "outputs": [
    {
     "name": "stdout",
     "output_type": "stream",
     "text": [
      "Resized Screenshot 2024-11-05 at 21.06.19.png\n",
      "Resized Screen Shot 2022-07-19 at 20.56.42.png\n",
      "Resized Screenshot 2024-11-09 at 16.05.59.png\n",
      "Resized Screenshot 2024-09-24 at 14.38.11.png\n",
      "Resized Screenshot 2024-09-24 at 21.41.49.png\n",
      "Resized Screenshot 2024-08-16 at 12.26.27.png\n",
      "Resized Screenshot 2024-11-05 at 16.19.08.png\n",
      "Resized chines-poetry-swiper.png\n",
      "Resized Screen Shot 2022-08-14 at 22.29.16.png\n",
      "Resized Screen Shot 2022-01-01 at 10.02.33 AM.png\n",
      "Resized Screenshot 2024-04-27 at 09.48.41.png\n",
      "Resized Screenshot 2024-09-24 at 21.05.36.png\n",
      "Resized Screenshot 2024-07-09 at 16.44.14.png\n",
      "Resized capability-triangle-model.png\n",
      "Resized Screenshot 2024-09-25 at 22.45.35.png\n",
      "Resized Screenshot 2024-11-05 at 19.41.51.png\n",
      "Resized Screen Shot 2021-05-28 at 9.01.30 AM.png\n",
      "Resized Screenshot 2024-11-05 at 20.51.37.png\n",
      "Resized Screenshot 2024-11-05 at 21.10.21.png\n",
      "Resized Screenshot 2024-11-05 at 19.42.12.png\n",
      "Resized Screenshot 2024-11-05 at 00.45.18.png\n",
      "Resized LWScreenShot 2024-09-27 at 10.28.57.png\n",
      "Resized Screenshot 2024-09-25 at 22.45.25.png\n",
      "Resized Screenshot 2024-09-24 at 21.08.14.png\n",
      "Resized Screen Shot 2022-01-01 at 10.00.19 AM.png\n",
      "Resized Stripes_Logo_LG.png\n",
      "Resized Screenshot 2024-09-24 at 17.25.35.png\n",
      "Resized Screen Shot 2022-01-01 at 5.12.45 PM.png\n",
      "Resized Screen Shot 2022-01-01 at 5.38.38 PM.png\n",
      "Resized Screenshot 2022-12-02 at 10.02.31.png\n",
      "Resized Screenshot 2024-11-05 at 18.20.07.png\n",
      "Resized Screenshot 2024-09-24 at 22.01.19.png\n",
      "Resized Screen Shot 2022-01-01 at 5.33.59 PM.png\n",
      "Resized Screenshot 2024-11-05 at 16.19.13.png\n",
      "Resized Screen Shot 2022-01-01 at 10.05.43 AM.png\n",
      "Resized Screenshot 2024-09-24 at 17.21.32.png\n",
      "Resized 1725265.png\n",
      "Resized Screenshot 2024-07-09 at 16.44.43.png\n",
      "Resized Screenshot 2024-11-05 at 19.40.51.png\n",
      "Resized Logo_Stripesai_Logo.png\n",
      "Resized Screenshot 2024-01-24 at 16.01.54.png\n",
      "Resized Screen Shot 2022-01-01 at 10.04.26 AM.png\n",
      "Resized Screenshot 2024-11-05 at 22.16.33.png\n",
      "Resized Screenshot 2024-09-25 at 14.14.36.png\n",
      "Resized Screen Shot 2020-01-14 at 11.54.00 PM.png\n",
      "Resized Screen Shot 2021-04-26 at 5.48.21 PM.png\n",
      "Resized Screenshot 2024-09-25 at 14.32.27.png\n",
      "Resized Screen Shot 2021-04-26 at 5.48.05 PM.png\n"
     ]
    }
   ],
   "source": [
    "from PIL import Image\n",
    "import os\n",
    "\n",
    "def batch_resize(folder, width, height):\n",
    "    for filename in os.listdir(folder):\n",
    "        if filename.endswith(('.jpeg', '.jpg', '.png')):\n",
    "            img = Image.open(os.path.join(folder, filename))\n",
    "            img = img.resize((width, height))\n",
    "            img.save(os.path.join(folder, f\"resized_{filename}\"))\n",
    "\n",
    "            print(f'Resized {filename}')\n",
    "\n",
    "batch_resize('/Users/encore/Desktop', 800, 600)"
   ]
  },
  {
   "cell_type": "markdown",
   "metadata": {},
   "source": [
    "### 5. Auto-Organize Your Downloads Folder (Because Let’s Be Real, It’s a Mess)"
   ]
  },
  {
   "cell_type": "code",
   "execution_count": 15,
   "metadata": {},
   "outputs": [],
   "source": [
    "import os\n",
    "import shutil\n",
    "\n",
    "def organize_folder(folder):\n",
    "    file_types = {\n",
    "        'Images': ['.jpeg', '.jpg', '.png', '.gif', '.svg'],\n",
    "        'Videos': ['.mp4', '.avi', '.mov'],\n",
    "        'Documents': ['.pdf', '.docx', '.txt', '.csv'],\n",
    "        'Archives': ['.zip', '.rar']\n",
    "    }\n",
    "\n",
    "    for filename in os.listdir(folder):\n",
    "        file_path = os.path.join(folder, filename)\n",
    "\n",
    "        if os.path.isfile(file_path):\n",
    "            ext = os.path.splitext(filename)[1].lower()\n",
    "\n",
    "            for folder_name, extensions in file_types.items():\n",
    "                if ext in extensions:\n",
    "                    target_folder = os.path.join(folder, folder_name)\n",
    "\n",
    "                    os.makedirs(target_folder, exist_ok=True)\n",
    "                    shutil.move(file_path, os.path.join(target_folder, filename))\n",
    "\n",
    "                    print(f'Moved {filename} to {folder_name}')\n",
    "\n",
    "organize_folder('/Users/encore/Desktop')"
   ]
  },
  {
   "cell_type": "markdown",
   "metadata": {},
   "source": [
    "### 6. Turn Any Web Page into an eBook (Because We All Need Offline Access)"
   ]
  },
  {
   "cell_type": "code",
   "execution_count": 17,
   "metadata": {},
   "outputs": [
    {
     "name": "stdout",
     "output_type": "stream",
     "text": [
      "Collecting ebooklib\n",
      "  Downloading EbookLib-0.18.tar.gz (115 kB)\n",
      "  Installing build dependencies ... \u001b[?25ldone\n",
      "\u001b[?25h  Getting requirements to build wheel ... \u001b[?25ldone\n",
      "\u001b[?25h  Preparing metadata (pyproject.toml) ... \u001b[?25ldone\n",
      "\u001b[?25hCollecting lxml (from ebooklib)\n",
      "  Downloading lxml-5.3.0-cp39-cp39-macosx_10_9_x86_64.whl.metadata (3.8 kB)\n",
      "Requirement already satisfied: six in /Users/encore/.pyenv/versions/3.9.18/lib/python3.9/site-packages (from ebooklib) (1.16.0)\n",
      "Downloading lxml-5.3.0-cp39-cp39-macosx_10_9_x86_64.whl (4.4 MB)\n",
      "\u001b[2K   \u001b[38;2;114;156;31m━━━━━━━━━━━━━━━━━━━━━━━━━━━━━━━━━━━━━━━━\u001b[0m \u001b[32m4.4/4.4 MB\u001b[0m \u001b[31m5.0 MB/s\u001b[0m eta \u001b[36m0:00:00\u001b[0m MB/s\u001b[0m eta \u001b[36m0:00:01\u001b[0m:01\u001b[0m\n",
      "\u001b[?25hBuilding wheels for collected packages: ebooklib\n",
      "  Building wheel for ebooklib (pyproject.toml) ... \u001b[?25ldone\n",
      "\u001b[?25h  Created wheel for ebooklib: filename=EbookLib-0.18-py3-none-any.whl size=38778 sha256=97b71b0a9e675f8597aab00ac5adf5a6a863c3204c686413a612e676fe419bbd\n",
      "  Stored in directory: /Users/encore/Library/Caches/pip/wheels/47/3a/ec/289c2f96d54695a17d260684be304d20a8d0bf50b08b75862e\n",
      "Successfully built ebooklib\n",
      "Installing collected packages: lxml, ebooklib\n",
      "Successfully installed ebooklib-0.18 lxml-5.3.0\n",
      "\n",
      "\u001b[1m[\u001b[0m\u001b[34;49mnotice\u001b[0m\u001b[1;39;49m]\u001b[0m\u001b[39;49m A new release of pip is available: \u001b[0m\u001b[31;49m24.2\u001b[0m\u001b[39;49m -> \u001b[0m\u001b[32;49m24.3.1\u001b[0m\n",
      "\u001b[1m[\u001b[0m\u001b[34;49mnotice\u001b[0m\u001b[1;39;49m]\u001b[0m\u001b[39;49m To update, run: \u001b[0m\u001b[32;49mpip install --upgrade pip\u001b[0m\n"
     ]
    }
   ],
   "source": [
    "!pip install ebooklib"
   ]
  },
  {
   "cell_type": "code",
   "execution_count": 18,
   "metadata": {},
   "outputs": [],
   "source": [
    "import requests\n",
    "from bs4 import BeautifulSoup\n",
    "from ebooklib import epub\n",
    "\n",
    "def create_ebook(url, book_title):\n",
    "    response = requests.get(url)\n",
    "    soup = BeautifulSoup(response.content, 'html.parser')\n",
    "\n",
    "    book = epub.EpubBook()\n",
    "    book.set_title(book_title)\n",
    "\n",
    "    chapter = epub.EpubHtml(title='Chapter 1', file_name='chap_01.xhtml')\n",
    "    chapter.content = soup.prettify()\n",
    "    book.add_item(chapter)\n",
    "\n",
    "    book.spine = ['nav', chapter]\n",
    "    epub.write_epub(f'{book_title}.epub', book, {})\n",
    "\n",
    "create_ebook('https://ekohe.com/maxime', 'Ekohe - Maxime')"
   ]
  },
  {
   "cell_type": "markdown",
   "metadata": {},
   "source": [
    "### 7. Track Cryptocurrency Prices (Because HODL)"
   ]
  },
  {
   "cell_type": "code",
   "execution_count": 21,
   "metadata": {},
   "outputs": [
    {
     "name": "stdout",
     "output_type": "stream",
     "text": [
      "79,424.183\n"
     ]
    }
   ],
   "source": [
    "import requests\n",
    "\n",
    "def get_crypto_price(crypto):\n",
    "    url = f\"https://api.coindesk.com/v1/bpi/currentprice/{crypto}.json\"\n",
    "    response = requests.get(url)\n",
    "    data = response.json()\n",
    "    return data['bpi']['USD']['rate']\n",
    "\n",
    "print(get_crypto_price('BTC'))"
   ]
  },
  {
   "cell_type": "markdown",
   "metadata": {},
   "source": [
    "### 8. Generate QR Codes (For That One Time You Need It)"
   ]
  },
  {
   "cell_type": "code",
   "execution_count": 23,
   "metadata": {},
   "outputs": [
    {
     "name": "stdout",
     "output_type": "stream",
     "text": [
      "Collecting qrcode\n",
      "  Downloading qrcode-8.0-py3-none-any.whl.metadata (17 kB)\n",
      "Downloading qrcode-8.0-py3-none-any.whl (45 kB)\n",
      "Installing collected packages: qrcode\n",
      "Successfully installed qrcode-8.0\n",
      "\n",
      "\u001b[1m[\u001b[0m\u001b[34;49mnotice\u001b[0m\u001b[1;39;49m]\u001b[0m\u001b[39;49m A new release of pip is available: \u001b[0m\u001b[31;49m24.2\u001b[0m\u001b[39;49m -> \u001b[0m\u001b[32;49m24.3.1\u001b[0m\n",
      "\u001b[1m[\u001b[0m\u001b[34;49mnotice\u001b[0m\u001b[1;39;49m]\u001b[0m\u001b[39;49m To update, run: \u001b[0m\u001b[32;49mpip install --upgrade pip\u001b[0m\n"
     ]
    }
   ],
   "source": [
    "!pip install qrcode"
   ]
  },
  {
   "cell_type": "code",
   "execution_count": 24,
   "metadata": {},
   "outputs": [],
   "source": [
    "import qrcode\n",
    "\n",
    "def generate_qr(text, filename):\n",
    "    img = qrcode.make(text)\n",
    "    img.save(f\"{filename}.png\")\n",
    "\n",
    "generate_qr('https://ekohe.com', 'ekohe')"
   ]
  },
  {
   "cell_type": "markdown",
   "metadata": {},
   "source": [
    "### 9. Create Random Strong Passwords (Because Password123 is Terrible)"
   ]
  },
  {
   "cell_type": "code",
   "execution_count": 31,
   "metadata": {},
   "outputs": [
    {
     "name": "stdout",
     "output_type": "stream",
     "text": [
      "Hg{tbM/<4;h3%rvU\n"
     ]
    }
   ],
   "source": [
    "import string\n",
    "import random\n",
    "\n",
    "def generate_password(length):\n",
    "    chars = string.ascii_letters + string.digits + string.punctuation\n",
    "    return ''.join(random.choice(chars) for _ in range(length))\n",
    "\n",
    "print(generate_password(16))"
   ]
  }
 ],
 "metadata": {
  "kernelspec": {
   "display_name": "Python 3",
   "language": "python",
   "name": "python3"
  },
  "language_info": {
   "codemirror_mode": {
    "name": "ipython",
    "version": 3
   },
   "file_extension": ".py",
   "mimetype": "text/x-python",
   "name": "python",
   "nbconvert_exporter": "python",
   "pygments_lexer": "ipython3",
   "version": "3.9.18"
  }
 },
 "nbformat": 4,
 "nbformat_minor": 2
}
